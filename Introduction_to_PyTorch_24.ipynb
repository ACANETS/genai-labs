{
 "cells": [
  {
   "cell_type": "markdown",
   "id": "0",
   "metadata": {},
   "source": [
    "## Getting Started with PyTorch on Intel GPUs"
   ]
  },
  {
   "cell_type": "markdown",
   "id": "1",
   "metadata": {},
   "source": [
    "### Introduction:\n",
    "\n",
    "Welcome to this Jupyter Notebook tutorial on getting started with PyTorch on Intel GPUs! In this notebook, we'll explore the exciting new features and capabilities of PyTorch, specifically the support for Intel GPUs (XPUs). We've already set up the environment and installed PyTorch for you, so you can dive right into learning and experimenting."
   ]
  },
  {
   "cell_type": "markdown",
   "id": "2",
   "metadata": {},
   "source": [
    "> **Note**: Ensure that you have selected `PyTorch GPU` as the Jupyter kernel before proceeding."
   ]
  },
  {
   "cell_type": "markdown",
   "id": "3",
   "metadata": {},
   "source": [
    "Throughout this notebook, we'll cover the basics of tensor operations, demonstrate how to check the device being used, and walk through a few example workloads to showcase the power of PyTorch on Intel GPUs. Let's get started!"
   ]
  },
  {
   "cell_type": "markdown",
   "id": "4",
   "metadata": {},
   "source": [
    "**Step 1**: Checking PyTorch Version and Device"
   ]
  },
  {
   "cell_type": "code",
   "execution_count": null,
   "id": "5",
   "metadata": {},
   "outputs": [],
   "source": [
    "import torch\n",
    "\n",
    "print(f\"PyTorch Version: {torch.__version__}\")\n",
    "\n",
    "device = torch.device('xpu' if torch.xpu.is_available() else 'cpu')\n",
    "print(f\"Using device: {device}\")"
   ]
  },
  {
   "cell_type": "markdown",
   "id": "6",
   "metadata": {},
   "source": [
    "**Step 2**: Let's see a basic Tensor Operation"
   ]
  },
  {
   "cell_type": "code",
   "execution_count": null,
   "id": "7",
   "metadata": {},
   "outputs": [],
   "source": [
    "# device selection\n",
    "device = torch.device('xpu' if torch.xpu.is_available() else 'cpu')\n",
    "print(f\"Using device: {device}\")\n",
    "\n",
    "# Create a tensor on the XPU device\n",
    "tensor = torch.ones(3, 4, device=device)\n",
    "print(f\"Tensor: {tensor}\")\n",
    "print(f\"Tensor device: {tensor.device}\")\n",
    "\n",
    "# Matrix multiplication\n",
    "mat1 = torch.randn(3, 4, device=device)\n",
    "mat2 = torch.randn(4, 5, device=device)\n",
    "result = torch.matmul(mat1, mat2)\n",
    "print(f\"Matrix multiplication result shape: {result.shape}\")"
   ]
  },
  {
   "cell_type": "markdown",
   "id": "8",
   "metadata": {},
   "source": [
    "**Step 3**: Example Workload - Image Classification with FP32 precision"
   ]
  },
  {
   "cell_type": "code",
   "execution_count": null,
   "id": "9",
   "metadata": {},
   "outputs": [],
   "source": [
    "import torchvision.models as models\n",
    "import torchvision.transforms as transforms\n",
    "from PIL import Image\n",
    "import requests\n",
    "from torchvision.models.resnet import ResNet18_Weights\n",
    "\n",
    "import ssl\n",
    "ssl._create_default_https_context = ssl._create_unverified_context\n",
    "\n",
    "# device selection\n",
    "device = torch.device('xpu' if torch.xpu.is_available() else 'cpu')\n",
    "print(f\"Using device: {device}\")\n",
    "\n",
    "# Get model\n",
    "weights = ResNet18_Weights.DEFAULT\n",
    "model = models.resnet18(weights=weights)\n",
    "model = model.to(device)\n",
    "imagenet_classes = weights.meta[\"categories\"]\n",
    "\n",
    "# Prepare the input image\n",
    "image_url = \"https://upload.wikimedia.org/wikipedia/commons/thumb/4/4d/Cat_November_2010-1a.jpg/1200px-Cat_November_2010-1a.jpg\"\n",
    "input_image = Image.open(requests.get(image_url, stream=True).raw)\n",
    "preprocess = transforms.Compose([\n",
    "    transforms.Resize(256),\n",
    "    transforms.CenterCrop(224),\n",
    "    transforms.ToTensor(),\n",
    "    transforms.Normalize(mean=[0.485, 0.456, 0.406], std=[0.229, 0.224, 0.225]),\n",
    "])\n",
    "input_tensor = preprocess(input_image)\n",
    "input_batch = input_tensor.unsqueeze(0).to(device)\n",
    "\n",
    "# infer\n",
    "model = model.eval()\n",
    "with torch.no_grad():\n",
    "    output = model(input_batch)\n",
    "\n",
    "_, predicted = torch.max(output, 1)\n",
    "class_index = predicted.item()\n",
    "class_label = imagenet_classes[class_index]\n",
    "\n",
    "print(f\"Predicted class: {class_index}\")\n",
    "print(f\"Class label: {class_label}\")"
   ]
  },
  {
   "cell_type": "markdown",
   "id": "10",
   "metadata": {},
   "source": [
    "We used an image of a cat, but if you are not getting the `Class label` as a cat it is just a reminder that even the best models can benefit from a little fine-tuning to help them stay on track. With a bit of training, we can help ResNet18 regain its cat-detecting superpowers and avoid any future blunders! 😺"
   ]
  },
  {
   "cell_type": "markdown",
   "id": "11",
   "metadata": {},
   "source": [
    "**Step 4**: Example Workload - Sentiment Analysis inference\n",
    "\n",
    "Let's see another example with LSTMs and inference after model compilation using `torch.compile`"
   ]
  },
  {
   "cell_type": "code",
   "execution_count": null,
   "id": "12",
   "metadata": {},
   "outputs": [],
   "source": [
    "import torch.nn as nn\n",
    "\n",
    "# device selection\n",
    "device = torch.device('xpu' if torch.xpu.is_available() else 'cpu')\n",
    "print(f\"Using device: {device}\")\n",
    "\n",
    "# Define a simple sentiment analysis model (expected to have a trained model, for now we will use this model as an example)\n",
    "class SentimentModel(nn.Module):\n",
    "    def __init__(self, vocab_size, embed_dim, hidden_dim, output_dim):\n",
    "        super().__init__()\n",
    "        self.embedding = nn.Embedding(vocab_size, embed_dim)\n",
    "        self.lstm = nn.LSTM(embed_dim, hidden_dim, batch_first=True)\n",
    "        self.fc = nn.Linear(hidden_dim, output_dim)\n",
    "\n",
    "    def forward(self, x):\n",
    "        x = self.embedding(x)\n",
    "        _, (hidden, _) = self.lstm(x)\n",
    "        out = self.fc(hidden.squeeze(0))\n",
    "        return out\n",
    "\n",
    "\n",
    "vocab_size = 10000\n",
    "embed_dim = 100\n",
    "hidden_dim = 512\n",
    "output_dim = 2\n",
    "\n",
    "model = SentimentModel(vocab_size, embed_dim, hidden_dim, output_dim)\n",
    "model = model.to(device)\n",
    "print(f\"\\nModel before compilation: \\n{model}\\n\")\n",
    "model = torch.compile(model)  # compile model\n",
    "print(\"-\"*72)\n",
    "print(f\"\\nModel after compilation: \\n{model}\")\n",
    "\n",
    "input_text = torch.randint(0, vocab_size, (1, 20), device=device)\n",
    "output = model(input_text)\n",
    "sentiment = torch.argmax(output, dim=1)\n",
    "print(f\"Sentiment score: {sentiment.item()}\")"
   ]
  },
  {
   "cell_type": "markdown",
   "id": "13",
   "metadata": {},
   "source": [
    "**Step 5**: Transfer Learning - Vision (ResNet18) using Auto Mixed Precision (we can use torch.float16 or torch.bfloat16)"
   ]
  },
  {
   "cell_type": "code",
   "execution_count": null,
   "id": "14",
   "metadata": {},
   "outputs": [],
   "source": [
    "import torch\n",
    "import torch.nn as nn\n",
    "import torchvision.models as models\n",
    "import torchvision.transforms as transforms\n",
    "import torchvision.datasets as datasets\n",
    "from PIL import Image\n",
    "import requests\n",
    "import tqdm\n",
    "\n",
    "import ssl\n",
    "ssl._create_default_https_context = ssl._create_unverified_context\n",
    "\n",
    "# device selection\n",
    "device = 'xpu' if torch.xpu.is_available() else 'cpu'\n",
    "print(f\"Using device: {device}\")\n",
    "\n",
    "# Use CIFAR10 dataset \n",
    "train_dataset = datasets.CIFAR10(root='~/data', train=True, download=True, transform=transforms.Compose([\n",
    "    transforms.Resize(224),\n",
    "    transforms.ToTensor(),\n",
    "    transforms.Normalize(mean=[0.485, 0.456, 0.406], std=[0.229, 0.224, 0.225])\n",
    "]))\n",
    "test_dataset = datasets.CIFAR10(root='~/data', train=False, download=True, transform=transforms.Compose([\n",
    "    transforms.Resize(224),\n",
    "    transforms.ToTensor(),\n",
    "    transforms.Normalize(mean=[0.485, 0.456, 0.406], std=[0.229, 0.224, 0.225])\n",
    "]))\n",
    "\n",
    "train_loader = torch.utils.data.DataLoader(train_dataset, batch_size=128, shuffle=True)\n",
    "test_loader = torch.utils.data.DataLoader(test_dataset, batch_size=128, shuffle=False)\n",
    "train_len = len(train_loader)\n",
    "\n",
    "# Load the pre-trained ResNet18 model and move it to an `xpu` device.\n",
    "weights = ResNet18_Weights.DEFAULT\n",
    "imagenet_classes = weights.meta[\"categories\"]\n",
    "model = models.resnet18(weights=weights)\n",
    "num_ftrs = model.fc.in_features\n",
    "model.fc = nn.Linear(num_ftrs, 10) \n",
    "\n",
    "# optimizer and loss\n",
    "criterion = nn.CrossEntropyLoss()\n",
    "optimizer = torch.optim.Adam(model.parameters(), lr=0.0001)\n",
    "num_epochs = 1\n",
    "\n",
    "# set model to train and move model and criterion to `device`\n",
    "model = model.train()\n",
    "model = model.to(device)\n",
    "criterion = criterion.to(device)\n",
    "\n",
    "# Training\n",
    "for epoch in range(num_epochs):\n",
    "    running_loss = 0.0\n",
    "    print(f\"Initiating training: Epoch {epoch}\")\n",
    "    for i, data in enumerate(train_loader):\n",
    "        inputs, labels = data[0].to(device), data[1].to(device)\n",
    "        optimizer.zero_grad()\n",
    "        with torch.autocast(device_type=device, dtype=torch.bfloat16, enabled=True):  # using torch.bfloat16\n",
    "            outputs = model(inputs)\n",
    "            loss = criterion(outputs, labels)\n",
    "        loss.backward()\n",
    "        optimizer.step()\n",
    "        running_loss += loss.item()\n",
    "        if (i + 1) % 10 == 0:\n",
    "            iteration_loss = loss.item()\n",
    "            print(f\"Iteration [{i+1}/{train_len}], Loss: {iteration_loss:.4f}\")\n",
    "    epoch_loss = running_loss / (i + 1)\n",
    "    print(f\"Epoch {epoch + 1} completed, Epoch Loss: {epoch_loss:.4f}\")\n",
    "\n",
    "# Evaluate\n",
    "model = model.eval()\n",
    "correct = 0\n",
    "total = 0\n",
    "with torch.no_grad():\n",
    "    for data in test_loader:\n",
    "        images, labels = data[0].to(device), data[1].to(device)\n",
    "        outputs = model(images)\n",
    "        _, predicted = torch.max(outputs.data, 1)\n",
    "        total += labels.size(0)\n",
    "        correct += (predicted == labels).sum().item()\n",
    "print(f\"Accuracy on test images: {100 * correct / total:.2f}%\")"
   ]
  },
  {
   "cell_type": "markdown",
   "id": "15",
   "metadata": {},
   "source": [
    "Congratulations! You've now explored PyTorch with Intel GPU support using this Jupyter Notebook. We covered the basics of tensor operations, checked the device being used, and walked through a couple of example workloads.\n",
    "\n",
    "Feel free to experiment further, modify the code snippets, and explore more advanced topics.\n",
    "\n",
    "For more information and examples on Pytorch on Intel GPUs, please refer to this [link](https://pytorch.org/docs/main/notes/get_start_xpu.html).\n",
    "\n",
    "Happy learning and coding with PyTorch on Intel GPUs!"
   ]
  },
  {
   "cell_type": "code",
   "execution_count": null,
   "id": "16",
   "metadata": {},
   "outputs": [],
   "source": []
  }
 ],
 "metadata": {
  "kernelspec": {
   "display_name": "PyTorch 2.5",
   "language": "python",
   "name": "pytorch-2.5"
  },
  "language_info": {
   "codemirror_mode": {
    "name": "ipython",
    "version": 3
   },
   "file_extension": ".py",
   "mimetype": "text/x-python",
   "name": "python",
   "nbconvert_exporter": "python",
   "pygments_lexer": "ipython3",
   "version": "3.10.15"
  }
 },
 "nbformat": 4,
 "nbformat_minor": 5
}
