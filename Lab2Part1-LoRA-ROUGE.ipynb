{
 "cells": [
  {
   "cell_type": "markdown",
   "id": "0",
   "metadata": {},
   "source": [
    "# Fine-tune a Model and Evaluate it using ROUGE Metrics\n",
    "\n",
    "* We mark **TODO** in the notebook cells to indicate the place where you need to complete the missing code. You can refer to the exercises in the course repository for code examples."
   ]
  },
  {
   "cell_type": "markdown",
   "id": "1",
   "metadata": {},
   "source": [
    "## Install necessary packages\n",
    "\n",
    "This is a onestep process to install necessary bitsandbytes(Alpha release) for the notebook.\n",
    "1. Run below cell uncommenting the installation commands, after successful installation, comment back again.\n",
    "2. Now Restart the kernel. `Kernel->Restart Kernel`\n",
    "3. Now run the cells normally."
   ]
  },
  {
   "cell_type": "code",
   "execution_count": null,
   "id": "2",
   "metadata": {},
   "outputs": [],
   "source": [
    "import sys\n",
    "import os\n",
    "import site\n",
    "from pathlib import Path\n",
    "\n",
    "!echo \"Installation in progress, please wait...\"\n",
    "!{sys.executable} -m pip cache purge > /dev/null\n",
    "\n",
    "%pip install --user --upgrade transformers datasets trl peft accelerate scipy sentencepiece ipywidgets evaluate rouge_score --no-warn-script-location\n",
    "\n",
    "!echo \"Installation completed.\"\n",
    "\n",
    "# Get the site-packages directory\n",
    "site_packages_dir = site.getsitepackages()[0]\n",
    "\n",
    "# add the site pkg directory where these pkgs are insalled to the top of sys.path\n",
    "if not os.access(site_packages_dir, os.W_OK):\n",
    "    user_site_packages_dir = site.getusersitepackages()\n",
    "    if user_site_packages_dir in sys.path:\n",
    "        sys.path.remove(user_site_packages_dir)\n",
    "    sys.path.insert(0, user_site_packages_dir)\n",
    "else:\n",
    "    if site_packages_dir in sys.path:\n",
    "        sys.path.remove(site_packages_dir)\n",
    "    sys.path.insert(0, site_packages_dir)"
   ]
  },
  {
   "cell_type": "code",
   "execution_count": null,
   "metadata": {},
   "outputs": [],
   "source": [
    "%env HF_HOME=/opt/notebooks/.cache/huggingface"
   ]
  },
  {
   "cell_type": "markdown",
   "id": "3",
   "metadata": {},
   "source": [
    "## Import necessary packages"
   ]
  },
  {
   "cell_type": "code",
   "execution_count": null,
   "id": "4",
   "metadata": {},
   "outputs": [],
   "source": [
    "import torch\n",
    "import os\n",
    "\n",
    "os.environ[\"WANDB_DISABLED\"] = \"true\"\n",
    "import transformers\n",
    "from transformers import AutoTokenizer\n",
    "from peft import LoraConfig\n",
    "from transformers import BitsAndBytesConfig, AutoModelForCausalLM\n",
    "from peft import get_peft_model, prepare_model_for_kbit_training\n",
    "from datasets import load_dataset\n",
    "from trl import SFTTrainer, SFTConfig\n",
    "from evaluate import load"
   ]
  },
  {
   "cell_type": "markdown",
   "id": "5",
   "metadata": {},
   "source": [
    "## Login to HuggingFace"
   ]
  },
  {
   "cell_type": "code",
   "execution_count": null,
   "id": "6",
   "metadata": {},
   "outputs": [],
   "source": [
    "from huggingface_hub import notebook_login\n",
    "notebook_login()"
   ]
  },
  {
   "cell_type": "markdown",
   "id": "7",
   "metadata": {},
   "source": [
    "## Load Gemma-2-2b-it Model from HuggingFace Hub"
   ]
  },
  {
   "cell_type": "code",
   "execution_count": null,
   "id": "8",
   "metadata": {},
   "outputs": [],
   "source": [
    "model_path = \"google/gemma-2-2b-it\"\n",
    "\n",
    "# TODO: create tokenizer using AutoTokenizer class\n",
    "# tokenizer = ...\n",
    "model = AutoModelForCausalLM.from_pretrained(model_path,\n",
    "                                             attn_implementation='eager',\n",
    "                                             device_map=\"auto\")\n"
   ]
  },
  {
   "cell_type": "markdown",
   "id": "9",
   "metadata": {},
   "source": [
    "## Load, Format, and Split Dataset"
   ]
  },
  {
   "cell_type": "code",
   "execution_count": null,
   "id": "10",
   "metadata": {},
   "outputs": [],
   "source": [
    "def process_dataset(sample):\n",
    "    messages = [\n",
    "        {\"role\": \"user\", \"content\": f\"Instruction:\\nSummarize the following article.\\n\\nInput:\\n{sample['Articles']}\"},\n",
    "        {\"role\": \"assistant\", \"content\": sample['Summaries']}\n",
    "    ]\n",
    "    sample = tokenizer.apply_chat_template(messages, tokenize=True, return_dict=True)\n",
    "    return sample\n",
    "\n",
    "dataset = load_dataset(\"gopalkalpande/bbc-news-summary\", split=\"train\")\n",
    "dataset = dataset.map(process_dataset)\n",
    "\n",
    "split_dataset = dataset.train_test_split(test_size=0.1, seed=99)\n",
    "train_dataset = split_dataset[\"train\"]\n",
    "validation_dataset = split_dataset[\"test\"]"
   ]
  },
  {
   "cell_type": "markdown",
   "id": "11",
   "metadata": {},
   "source": [
    "## Evaluate Base Model Summaries using ROUGE Metric"
   ]
  },
  {
   "cell_type": "code",
   "execution_count": null,
   "id": "12",
   "metadata": {},
   "outputs": [],
   "source": [
    "rouge = load('rouge')\n",
    "\n",
    "# initialize lists of predictions and references later used to compute rouge scores\n",
    "predictions = []\n",
    "references = []\n",
    "\n",
    "# iterate through the first 15 samples\n",
    "for article, abstract in zip(validation_dataset[\"Articles\"][:15], validation_dataset[\"Summaries\"][:15]):\n",
    "    messages = [\n",
    "        {\"role\": \"user\", \"content\": f\"Instruction:\\nSummarize the following article.\\n\\nInput:\\n{article}\"},\n",
    "    ]\n",
    "    input_ids = tokenizer.apply_chat_template(messages,\n",
    "                                              tokenize=True,\n",
    "                                              add_generation_prompt=True,\n",
    "                                              return_tensors=\"pt\").to(\"cuda\")\n",
    "    \n",
    "    # TODO: perform model inference using the tokens in ``input_ids''\n",
    "    # output =   \n",
    "     \n",
    "    # Remove input prompt from output\n",
    "    prompt_length = input_ids.shape[1]\n",
    "    answer = tokenizer.decode(output[0][prompt_length:], skip_special_tokens=True)\n",
    "    \n",
    "    # TODO: add one answer to the ``predictions'' list, which is later passed to rouge compute\n",
    "    # \n",
    "    # TODO: add one abstract to the ``references'' list, which is later passed to rouge compute\n",
    "    # \n",
    "    \n",
    "    print(100*'-')\n",
    "    print(\"Abstract:\", abstract)\n",
    "    print(100*'-')\n",
    "    print(\"Model Summary:\", answer)\n",
    "\n",
    "print(100*'-')\n",
    "# TODO: compute and print out the rouge scores including rouge1, rouge2, rougeL and rougeLsum\n",
    "# TODO: you can refer to https://huggingface.co/spaces/evaluate-metric/rouge/blob/main/README.md#how-to-use\n",
    "# print(...)\n",
    "\n",
    "print(100*'-')\n"
   ]
  },
  {
   "cell_type": "markdown",
   "id": "13",
   "metadata": {},
   "source": [
    "## Run the SFTTrainer to Fine-tune Model"
   ]
  },
  {
   "cell_type": "code",
   "execution_count": null,
   "id": "14",
   "metadata": {},
   "outputs": [],
   "source": [
    "finetuned_model = \"gemma-2-2b-it-finetuned\"\n",
    "\n",
    "peft_config = LoraConfig(\n",
    "    r=64,\n",
    "    lora_alpha=32,\n",
    "    lora_dropout=0.05,\n",
    "    target_modules=\"all-linear\",\n",
    "    modules_to_save=[\"lm_head\", \"embed_token\"],\n",
    "    task_type=\"CAUSAL_LM\",\n",
    ")\n",
    "\n",
    "if torch.cuda.is_available():\n",
    "    torch.cuda.empty_cache()\n",
    "\n",
    "# TODO: set up the trainer using SFTTrainer class\n",
    "# TODO: you can refer to the gemma_xpu_finetuning.ipynb exercise\n",
    "# TODO: this part is relatively long because of the arguments that need to be set\n",
    "# trainer = SFTTrainer(...)\n",
    "\n",
    "model.config.use_cache = False  # silence the warnings. Please re-enable for inference!\n",
    "result = trainer.train()\n",
    "model.config.use_cache = True\n",
    "print(result)"
   ]
  },
  {
   "cell_type": "markdown",
   "id": "15",
   "metadata": {},
   "source": [
    "## Inference Fine-tuned Model and Evaluate Summaries using ROUGE"
   ]
  },
  {
   "cell_type": "code",
   "execution_count": null,
   "id": "16",
   "metadata": {},
   "outputs": [],
   "source": [
    "rouge = load('rouge')\n",
    "\n",
    "finetuned_model_path = f\"{finetuned_model}/checkpoint-500\"\n",
    "loaded_model = AutoModelForCausalLM.from_pretrained(finetuned_model_path, device_map=\"cuda\")\n",
    "tokenizer = AutoTokenizer.from_pretrained(finetuned_model_path)\n",
    "\n",
    "predictions = []\n",
    "references = []\n",
    "\n",
    "# TODO: compute rouge scores on the first 15 sample again.\n",
    "# TODO: you can repeat the code from the earlier cells.\n",
    "#"
   ]
  }
 ],
 "metadata": {
  "kernelspec": {
   "display_name": "Python 3 (ipykernel)",
   "language": "python",
   "name": "python3"
  },
  "language_info": {
   "codemirror_mode": {
    "name": "ipython",
    "version": 3
   },
   "file_extension": ".py",
   "mimetype": "text/x-python",
   "name": "python",
   "nbconvert_exporter": "python",
   "pygments_lexer": "ipython3",
   "version": "3.11.6"
  }
 },
 "nbformat": 4,
 "nbformat_minor": 5
}
