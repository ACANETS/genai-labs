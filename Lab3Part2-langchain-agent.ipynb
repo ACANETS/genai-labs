{
 "cells": [
  {
   "cell_type": "markdown",
   "id": "2ea553de",
   "metadata": {},
   "source": [
    "## Lab 3 Part 2 - EECE.4860/5860 at UMass Lowell\n",
    "\n",
    "Complete the missing code to execute a complex query that invokes search and calculation tools."
   ]
  },
  {
   "cell_type": "code",
   "execution_count": null,
   "id": "00e43c0c",
   "metadata": {},
   "outputs": [],
   "source": [
    "from huggingface_hub import notebook_login\n",
    "notebook_login()"
   ]
  },
  {
   "cell_type": "code",
   "execution_count": null,
   "id": "fb49ccee-f90e-497a-a336-3463a29760d6",
   "metadata": {},
   "outputs": [],
   "source": [
    "import os\n",
    "import sys\n",
    "import torch\n",
    "!{sys.executable} -m pip install --upgrade langchain langgraph langchain-community \n",
    "!{sys.executable} -m pip install --upgrade langchain_huggingface wikipedia jsonpointer numexpr\n"
   ]
  },
  {
   "cell_type": "code",
   "execution_count": null,
   "id": "303e6586-3455-444e-936d-45a661d90c88",
   "metadata": {},
   "outputs": [],
   "source": [
    "from langchain_huggingface import HuggingFacePipeline, HuggingFaceEndpoint, ChatHuggingFace\n",
    "\n",
    "from langchain.llms.huggingface_pipeline import HuggingFacePipeline\n",
    "\n",
    "\n",
    "llm = HuggingFaceEndpoint(\n",
    "    repo_id=\"microsoft/Phi-3-mini-4k-instruct\",\n",
    "    task=\"text-generation\",\n",
    "    max_new_tokens=400,\n",
    "    do_sample=False,\n",
    "    repetition_penalty=1.03,\n",
    ")\n",
    "\n",
    "# TODO: create chat model using ChatHuggingFace() API and llm\n",
    "# chat = ..."
   ]
  },
  {
   "cell_type": "code",
   "execution_count": null,
   "id": "fc7b120f-e3b9-402d-a2b2-05f1c17318da",
   "metadata": {},
   "outputs": [],
   "source": [
    "from langchain.chains import LLMMathChain, LLMChain\n",
    "from langchain.prompts import PromptTemplate\n",
    "from langchain_community.utilities import WikipediaAPIWrapper\n",
    "from langchain.agents import Tool, initialize_agent\n",
    "from langchain.agents.agent_types import AgentType\n",
    "\n",
    "wikipedia_wrapper = WikipediaAPIWrapper()\n",
    "wikipedia_tool = Tool(\n",
    "    name=\"Wikipedia\",\n",
    "    func=wikipedia_wrapper.run,\n",
    "    description=\"A tool for searching the Internet to find various information on the topics mentioned.\"\n",
    ")\n",
    "math_chain = LLMMathChain.from_llm(llm=chat, verbose=True)\n",
    "calculator = Tool.from_function(\n",
    "    name=\"Calculator\",\n",
    "    func=math_chain.run,\n",
    "    description=\"A tool for solving mathematical problems. Provide only the mathematical expressions.\"\n",
    ")\n",
    "\n",
    "# TODO: set up tools list\n",
    "# tools=[...,...]"
   ]
  },
  {
   "cell_type": "code",
   "execution_count": null,
   "id": "099c1e2b-a723-475b-af77-feae5e93f8d9",
   "metadata": {},
   "outputs": [],
   "source": [
    "# TODO: create LangChain agent using initialize_agent()\n",
    "agent = initialize_agent(\n",
    "    # TODO: initiate tools list\n",
    "    # tools=...,\n",
    "    # TODO: initiate llm with chat model\n",
    "    # llm=...,\n",
    "    agent=AgentType.ZERO_SHOT_REACT_DESCRIPTION,\n",
    "    verbose=False,\n",
    "    handle_parsing_errors=True\n",
    ")\n",
    "\n",
    "print(agent.invoke(\n",
    "    {\"input\": \"In what year was the film Departed with Leopnardo Dicaprio released? What is this year raised to the 0.43 power?\"}))\n",
    "\n",
    "# TODO: try a different query"
   ]
  }
 ],
 "metadata": {
  "kernelspec": {
   "display_name": "PyTorch 2.6",
   "language": "python",
   "name": "pytorch-2.6"
  },
  "language_info": {
   "codemirror_mode": {
    "name": "ipython",
    "version": 3
   },
   "file_extension": ".py",
   "mimetype": "text/x-python",
   "name": "python",
   "nbconvert_exporter": "python",
   "pygments_lexer": "ipython3",
   "version": "3.10.16"
  }
 },
 "nbformat": 4,
 "nbformat_minor": 5
}
