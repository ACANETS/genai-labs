{
 "cells": [
  {
   "cell_type": "markdown",
   "id": "0",
   "metadata": {},
   "source": [
    "## Lab 3 Part 2 - EECE.4860/5860 at UMass Lowell\n",
    "\n",
    "Complete the missing code to execute a complex query that invokes search and calculation tools."
   ]
  },
  {
   "cell_type": "code",
   "execution_count": null,
   "id": "1",
   "metadata": {},
   "outputs": [],
   "source": [
    "import sys\n",
    "!{sys.executable} -m pip install --upgrade langchain langchain-community langchain_nvidia_ai_endpoints wikipedia jsonpointer numexpr\n"
   ]
  },
  {
   "cell_type": "code",
   "execution_count": null,
   "id": "2",
   "metadata": {},
   "outputs": [],
   "source": [
    "import getpass\n",
    "import os\n",
    "from langchain_nvidia_ai_endpoints import ChatNVIDIA\n",
    "\n",
    "# You need to apply for a free API key from NVIDIA at https://build.nvidia.com\n",
    "if not os.environ.get(\"NVIDIA_API_KEY\"):\n",
    "  os.environ[\"NVIDIA_API_KEY\"] = getpass.getpass(\"Enter API key for NVIDIA: \")\n",
    "\n",
    "llm = ChatNVIDIA(model=\"meta/llama-3.1-70b-instruct\",\n",
    "                           temperature=0.1,\n",
    "                            max_tokens=512,\n",
    "                            top_p=1.0,)"
   ]
  },
  {
   "cell_type": "code",
   "execution_count": null,
   "id": "3",
   "metadata": {},
   "outputs": [],
   "source": [
    "from langchain.chains import LLMMathChain\n",
    "from langchain_community.utilities import WikipediaAPIWrapper\n",
    "from langchain.agents import Tool\n",
    "\n",
    "wikipedia_wrapper = WikipediaAPIWrapper()\n",
    "wikipedia_tool = Tool(\n",
    "    name=\"Wikipedia\",\n",
    "    func=wikipedia_wrapper.run,\n",
    "    description=\"A tool for searching the Internet to find various information on the topics mentioned.\"\n",
    ")\n",
    "math_chain = LLMMathChain.from_llm(llm=llm, verbose=True)\n",
    "calculator = Tool.from_function(\n",
    "    name=\"Calculator\",\n",
    "    func=math_chain.run,\n",
    "    description=\"A tool for solving mathematical problems. Provide only the mathematical expressions.\"\n",
    ")\n",
    "\n",
    "# TODO: set up tools list\n",
    "# tools=[...,...]"
   ]
  },
  {
   "cell_type": "code",
   "execution_count": null,
   "id": "4",
   "metadata": {},
   "outputs": [],
   "source": [
    "from langchain.agents import initialize_agent\n",
    "from langchain.agents.agent_types import AgentType\n",
    "\n",
    "# TODO: create LangChain agent using initialize_agent()\n",
    "agent = initialize_agent(\n",
    "    # TODO: initiate tools list\n",
    "    # tools=...,\n",
    "    # TODO: initiate llm with chat model\n",
    "    # llm=...,\n",
    "    agent=AgentType.ZERO_SHOT_REACT_DESCRIPTION,\n",
    "    verbose=False,\n",
    "    handle_parsing_errors=True\n",
    ")\n",
    "\n",
    "print(agent.invoke(\n",
    "    {\"input\": \"In what year was the film Departed with Leopnardo Dicaprio released? What is this year raised to the 0.43 power?\"}))\n",
    "\n",
    "# TODO: try a different query"
   ]
  },
  {
   "cell_type": "code",
   "execution_count": null,
   "id": "5",
   "metadata": {},
   "outputs": [],
   "source": []
  }
 ],
 "metadata": {
  "kernelspec": {
   "display_name": "PyTorch 2.6",
   "language": "python",
   "name": "pytorch-2.6"
  },
  "language_info": {
   "codemirror_mode": {
    "name": "ipython",
    "version": 3
   },
   "file_extension": ".py",
   "mimetype": "text/x-python",
   "name": "python",
   "nbconvert_exporter": "python",
   "pygments_lexer": "ipython3",
   "version": "3.10.16"
  }
 },
 "nbformat": 4,
 "nbformat_minor": 5
}
