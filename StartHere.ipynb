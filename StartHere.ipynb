{
 "cells": [
  {
   "cell_type": "markdown",
   "metadata": {},
   "source": [
    "# GenAI Lab Setup Guide\n",
    "\n",
    "This notebook is the one-stop shop for students to get started on the labs."
   ]
  },
  {
   "cell_type": "markdown",
   "metadata": {},
   "source": [
    "## Introduction to Intel Tiber Cloud\n",
    "\n",
    "Intel® Tiber™ AI Cloud offers a cloud compute platform where you develop solutions on the latest Intel® hardware, AI accelerators, and optimized software stacks. The platform helps you:\n",
    "\n",
    "* Implement AI deployments, developer ecosystems, and benchmark testing\n",
    "* Scale AI deployments from virtual machines, single nodes, to super-computing clusters.\n",
    "* Leverage integration of open source models, accelerator software, and frameworks\n",
    "\n",
    "### Systems\n",
    "\n",
    "The AI industry insists workload processing meets rapidly evolving demands for increased performance and scalability. Intel® Tiber™ AI Cloud enables you to deploy AI workloads, and manage containerized workflows, virtual machines, and dedicated systems at a competitive price-performance.\n",
    "\n",
    "### Software\n",
    "\n",
    "Intel supports the growing open software ecosystem for AI and actively contributes to open source projects such as PyTorch and UXL Foundation. Dedicated Intel cloud computing is allocated to support open source projects, enabling you to access the latest AI frameworks and models.\n",
    "\n",
    "### Services\n",
    "\n",
    "As an enterprise user or developer, you may consume computing AI services differently, depending on technical expertise, implementation requirements, or the use case. Our list of services is constantly evolving. Visit our Services."
   ]
  },
  {
   "cell_type": "markdown",
   "metadata": {},
   "source": [
    "## Sign up free account\n",
    "\n",
    "You can sign up for a free account by following [this guide](https://console.cloud.intel.com/docs/guides/get_started.html).\n",
    "\n",
    "Once your account registration has been approved, you will be able to access the learning exercises [here](https://console.cloud.intel.com/learning/notebooks).\n",
    "\n",
    "**Note** : we do not use instances. Instead we use Jupyter Notebooks for the exercises and labs.\n"
   ]
  },
  {
   "cell_type": "markdown",
   "metadata": {},
   "source": [
    "## Get Started with JupyterLab \n",
    "\n",
    "You can learn about JupyterLab through this [tutorial](https://console.cloud.intel.com/docs/tutorials/jupyter_learning.html).\n",
    "\n",
    "To create an instance running JupyterLab, you can click the \"Connect Now\" button and select \"GPU\", or open any of the \"AI with Max Series GPU\" excercises.\n",
    "\n",
    "**Note**: any changes that you make to the notebooks will be persistant accross sessions, so it is suggested that you use a version control software (git) to keep track of changes.\n"
   ]
  },
  {
   "cell_type": "markdown",
   "metadata": {},
   "source": [
    "## Using Git and Github\n",
    "\n",
    "Once you have a intance running JupyterLab, you can access a terminal by clicking File > New > Terminal on the top left of the toolbar.\n",
    "\n",
    "Run the following commands to change into your home directory and clone the GenAI course's github repository:\n",
    "```\n",
    "cd ~\n",
    "git clone https://github.com/ACANETS/genai-labs.git\n",
    "```\n",
    "\n",
    "Here are some basic git commands to help you get started (for a more comprehensive tutorial please see the [W3 Schools Git Tutorial](https://www.w3schools.com/git/default.asp)):\n",
    "  * `git status` will display the current state of the working directory (which files have been staged for the next commit, which files have been modified since the last commit.\n",
    "  * `git add <file or directory>` will stage a new or modified file/directory for commit.\n",
    "  * `git commit -m \"Write a message describing changes here\"` will commit any changes that have been staged into the repositories history along with a message on what changes have been made.\n",
    "  * `git log` displays a commit history of the repository, showing the commit hash, author, date, and commit message.\n",
    "  * `git checkout <commit hash>` this command will revert the state of the repository to a previous commit.\n",
    "\n",
    "**Creating/Managing GitHub Repository and Downloading Files for Class Assignments:**\n",
    "  1. If not already done, install and configure git on your local machine (see [this guide](https://docs.github.com/en/get-started/getting-started-with-git/set-up-git#setting-up-git)).\n",
    "  2. Create private GitHub repository (see [this guide on creating a repository](https://docs.github.com/en/repositories/creating-and-managing-repositories/creating-a-new-repository) and [this guide on changing the repository's visability](https://docs.github.com/en/repositories/managing-your-repositorys-settings-and-features/managing-repository-settings/setting-repository-visibility#changing-a-repositorys-visibility)).\n",
    "  3. Generate an SSH keypair for authentication (see [this guide](https://docs.github.com/en/authentication/connecting-to-github-with-ssh/generating-a-new-ssh-key-and-adding-it-to-the-ssh-agent)).\n",
    "  4. Add your public key to your GitHub account (see [this guide](https://docs.github.com/en/authentication/connecting-to-github-with-ssh/adding-a-new-ssh-key-to-your-github-account)).\n",
    "  5. Clone your private repository to your local machine using SSH (see [this guide](https://docs.github.com/en/repositories/creating-and-managing-repositories/cloning-a-repository#cloning-a-repository)).\n",
    "  6. In the JupyterLab File Browser, right-click on the file you would like to download.\n",
    "  7. You will see a popup menu, select the \"Download\" option in this menu.\n",
    "  8. You can then move the file you downloaded to your cloned git repository.\n",
    "  9. After you have moved all of your project files, you can add the files (`git add <file or directory>`) commit your changes (`git commit -m \"Message describing changes\"`).\n",
    "  10. You can then push you changes to GitHub by running `git push` inside of your git repository.\n",
    "\n"
   ]
  },
  {
   "cell_type": "markdown",
   "metadata": {},
   "source": [
    "## Frequently Asked Questions and Issues\n",
    "\n",
    "If you are having issues with any of the labs/homework assignments, please take a look at [this document](faq.md), which contains a list of FAQ/common issues and their solutions. Feel free to reach out to the instructor/TA if you are still unable to resolve an issue."
   ]
  }
 ],
 "metadata": {
  "kernelspec": {
   "display_name": "Python 3 (ipykernel)",
   "language": "python",
   "name": "python3"
  },
  "language_info": {
   "codemirror_mode": {
    "name": "ipython",
    "version": 3
   },
   "file_extension": ".py",
   "mimetype": "text/x-python",
   "name": "python",
   "nbconvert_exporter": "python",
   "pygments_lexer": "ipython3",
   "version": "3.10.0"
  }
 },
 "nbformat": 4,
 "nbformat_minor": 4
}
